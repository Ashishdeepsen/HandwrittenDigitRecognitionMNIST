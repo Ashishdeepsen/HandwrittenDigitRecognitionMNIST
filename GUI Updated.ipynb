{
 "cells": [
  {
   "cell_type": "code",
   "execution_count": 47,
   "id": "d94d9016-983b-4f6a-a1fa-0b5f73356924",
   "metadata": {},
   "outputs": [],
   "source": [
    "import tkinter as tk\n",
    "import numpy as np\n",
    "import cv2\n",
    "from PIL import Image, ImageDraw\n",
    "from keras.models import load_model\n"
   ]
  },
  {
   "cell_type": "code",
   "execution_count": 23,
   "id": "f94c4548-3cad-48fd-a236-dd521dfce201",
   "metadata": {},
   "outputs": [
    {
     "name": "stderr",
     "output_type": "stream",
     "text": [
      "WARNING:absl:Compiled the loaded model, but the compiled metrics have yet to be built. `model.compile_metrics` will be empty until you train or evaluate the model.\n"
     ]
    },
    {
     "name": "stdout",
     "output_type": "stream",
     "text": [
      "CNN model loaded successfully\n"
     ]
    }
   ],
   "source": [
    "# Load the trained CNN model\n",
    "model = load_model('C:/Users/ashis/mnist.h5')\n",
    "print(\"CNN model loaded successfully\")"
   ]
  },
  {
   "cell_type": "code",
   "execution_count": 51,
   "id": "b9d4e7df-1f1f-48a3-8fa2-26020d138b0c",
   "metadata": {},
   "outputs": [],
   "source": [
    "\n",
    "# Mouse drawing event\n",
    "def event_function(event):\n",
    "    x, y = event.x, event.y\n",
    "    r = 15\n",
    "    canvas.create_oval(x - r, y - r, x + r, y + r, fill='white', outline='white')\n",
    "    img_draw.ellipse((x - r, y - r, x + r, y + r), fill='white')\n",
    "\n",
    "# Clear canvas and image\n",
    "def clear():\n",
    "    global img, img_draw\n",
    "    canvas.delete('all')\n",
    "    img = Image.new('L', (500, 500), 0)\n",
    "    img_draw = ImageDraw.Draw(img)\n",
    "    label_status.config(text='PREDICTED DIGIT: NONE')\n",
    "\n",
    "# Predict digit\n",
    "def predict():\n",
    "    img_array = np.array(img)\n",
    "    img_array = cv2.resize(img_array, (28, 28))\n",
    "    img_array = cv2.GaussianBlur(img_array, (5, 5), 0)\n",
    "    img_array = img_array.astype('float32') / 255.0\n",
    "    _, img_array = cv2.threshold(img_array, 0.2, 1.0, cv2.THRESH_BINARY)\n",
    "\n",
    "    # Centering logic\n",
    "    def center_image(img):\n",
    "        coords = cv2.findNonZero((img * 255).astype('uint8'))\n",
    "        if coords is not None:\n",
    "            x, y, w, h = cv2.boundingRect(coords)\n",
    "            cropped = img[y:y+h, x:x+w]\n",
    "            centered = np.zeros((28, 28), dtype='float32')\n",
    "            offset_x = (28 - w) // 2\n",
    "            offset_y = (28 - h) // 2\n",
    "            centered[offset_y:offset_y + h, offset_x:offset_x + w] = cropped\n",
    "            return centered\n",
    "        return img\n",
    "\n",
    "    img_array = center_image(img_array)\n",
    "    img_array = img_array.reshape(1, 28, 28, 1)\n",
    "\n",
    "    result = model.predict(img_array)[0]\n",
    "    label = int(np.argmax(result))\n",
    "    confidence = result[label] * 100\n",
    "\n",
    "    label_status.config(text=f'PREDICTED DIGIT: {label} ({confidence:.2f}%)')\n",
    "\n",
    "\n",
    "\n",
    "# GUI setup\n",
    "win = tk.Tk()\n",
    "win.title(\"Digit Recognizer - CNN Version\")\n",
    "\n",
    "canvas = tk.Canvas(win, width=500, height=500, bg='black')\n",
    "canvas.grid(row=0, column=0, columnspan=4)\n",
    "\n",
    "button_predict = tk.Button(win, text='PREDICT', bg='blue', fg='white', font='Helvetica 20 bold', command=predict)\n",
    "button_predict.grid(row=1, column=1)\n",
    "\n",
    "button_clear = tk.Button(win, text='CLEAR', bg='orange', fg='white', font='Helvetica 20 bold', command=clear)\n",
    "button_clear.grid(row=1, column=2)\n",
    "\n",
    "label_status = tk.Label(win, text='PREDICTED DIGIT: NONE', bg='white', font='Helvetica 24 bold')\n",
    "label_status.grid(row=2, column=0, columnspan=4)\n",
    "\n",
    "canvas.bind('<B1-Motion>', event_function)\n",
    "\n",
    "# Blank image for drawing\n",
    "img = Image.new('L', (500, 500), 0)\n",
    "img_draw = ImageDraw.Draw(img)\n",
    "\n",
    "win.mainloop()\n",
    "\n",
    "\n",
    "\n",
    "\n"
   ]
  }
 ],
 "metadata": {
  "kernelspec": {
   "display_name": "Python [conda env:base] *",
   "language": "python",
   "name": "conda-base-py"
  },
  "language_info": {
   "codemirror_mode": {
    "name": "ipython",
    "version": 3
   },
   "file_extension": ".py",
   "mimetype": "text/x-python",
   "name": "python",
   "nbconvert_exporter": "python",
   "pygments_lexer": "ipython3",
   "version": "3.12.7"
  }
 },
 "nbformat": 4,
 "nbformat_minor": 5
}
